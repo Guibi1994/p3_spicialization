{
 "cells": [
  {
   "cell_type": "markdown",
   "id": "123fd2a2",
   "metadata": {},
   "source": [
    "# P3 Specialization\n",
    "Michigan University"
   ]
  },
  {
   "cell_type": "markdown",
   "id": "5021f8d2",
   "metadata": {},
   "source": [
    "## 1. Pyhton basics\n",
    "\n",
    "### 1.1. Instancias\n",
    "Las instancias son objetos concretos creaos a partir de \"clases\". Tienen sus propias definiciones y métodos.\n",
    "\n",
    "\n",
    "#### 1.1.1. Ejemplo con \"Turtles\"\n",
    "Turtles es una libreria que permite crear una instancia curiosa para jugar con ella:"
   ]
  },
  {
   "cell_type": "code",
   "execution_count": 5,
   "id": "88108357",
   "metadata": {},
   "outputs": [],
   "source": [
    "import turtle\n",
    "# 1. Creamos un instancia de vizualización\n",
    "wn = turtle.Screen\n",
    "\n",
    "# 2. Creamos una instancia de tortuga\n",
    "hael = turtle.Turtle()\n",
    "hael.color(\"red\") # 2.1. Cambiamos su color\n",
    "\n",
    "# 3. Definimos un movimiento\n",
    "turnos = 10\n",
    "for i in range(turnos):    \n",
    "    hael.left(90) # Arracamos mirando hacia arriba 90°\n",
    "    hael.forward(50) # Nos movemos 50 pixeles\n",
    "    hael.left(25) # Giramos 25° a la izquerda\n",
    "    hael.forward(60) # Nos movemos 60 pixeles"
   ]
  }
 ],
 "metadata": {
  "language_info": {
   "name": "python"
  }
 },
 "nbformat": 4,
 "nbformat_minor": 5
}
