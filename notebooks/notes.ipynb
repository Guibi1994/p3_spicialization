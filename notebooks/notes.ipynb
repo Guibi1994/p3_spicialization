{
 "cells": [
  {
   "cell_type": "markdown",
   "id": "123fd2a2",
   "metadata": {},
   "source": [
    "# P3 Specialization\n",
    "Michigan University"
   ]
  },
  {
   "cell_type": "markdown",
   "id": "5021f8d2",
   "metadata": {},
   "source": [
    "## 1. Pyhton basics\n",
    "\n",
    "### 1.1. Instancias\n",
    "Las instancias son objetos concretos creaos a partir de \"clases\". Tienen sus propias definiciones y métodos.\n",
    "\n",
    "\n",
    "#### 1.1.1. Ejemplo con \"Turtles\"\n",
    "Turtles es una libreria que permite crear una instancia curiosa para jugar con ella:"
   ]
  },
  {
   "cell_type": "code",
   "execution_count": 75,
   "id": "88108357",
   "metadata": {},
   "outputs": [],
   "source": [
    "import turtle\n",
    "import random\n",
    "\n",
    "# 1. Creamos un instancia de vizualización\n",
    "wn = turtle.Screen()\n",
    "\n",
    "# 2. Creamos una instancia de tortuga\n",
    "hael = turtle.Turtle()\n",
    "hael.speed(\"fast\")\n",
    "\n",
    "# 3. Definimos un movimiento\n",
    "turnos = 30\n",
    "for i in range(turnos):    \n",
    "    hael.color(random.choice([\"blue\",\"red\",\"purple\",\"black\",\"orange\",\"green\"]))\n",
    "    hael.left(90) # Arracamos mirando hacia arriba 90°\n",
    "    hael.forward(50) # Nos movemos 50 pixeles\n",
    "    hael.color(random.choice([\"blue\",\"red\",\"purple\",\"black\",\"orange\",\"green\"]))\n",
    "    hael.left(random.randrange(1,180)) # Giramos aleatoriamente a la izquerda\n",
    "    hael.forward(60) # Nos movemos 60 pixeles\n",
    "wn.exitonclick()\n"
   ]
  },
  {
   "cell_type": "markdown",
   "id": "f9c9a755",
   "metadata": {},
   "source": [
    "### 1.2. Modulos\n",
    "Los módulos son las librerias disponibels en pyhton\n",
    "\n",
    "#### 1.2.1. \"random\""
   ]
  },
  {
   "cell_type": "code",
   "execution_count": 76,
   "id": "5afe5bf5",
   "metadata": {},
   "outputs": [
    {
     "name": "stdout",
     "output_type": "stream",
     "text": [
      "Funciones básicas:\n",
      "x  = 0.4805280152654773 \n",
      "y = 6\n",
      "\n",
      "Funciones adicionales:\n",
      "z = 0.4805280152654773\n",
      "w = ['hola', 2]\n"
     ]
    }
   ],
   "source": [
    "import random\n",
    "\n",
    "# Funciones básicas:\n",
    "random.seed(1994) # 0. Establecer una semilla\n",
    "x = random.random() # 1. Aletorio entre \"0\" y \"1\"\n",
    "y = random.randrange(1,7) # 2. Aleatorio entre un valor\n",
    "print(f\"Funciones básicas:\\nx  = {x} \\ny = {y}\\n\")\n",
    "\n",
    "# Funciones adicionales:\n",
    "z = random.choice([\"a\",2,34,\"hola\",\"perro\"]) # 3. Un valor\n",
    "w = random.choices([\"a\",2,34,\"hola\",\"perro\"], k=2) # 4. Varios valores\n",
    "print(f\"Funciones adicionales:\\nz = {x}\\nw = {w}\")\n"
   ]
  },
  {
   "cell_type": "markdown",
   "id": "baf767ba",
   "metadata": {},
   "source": [
    "### 1.3. Listas y secuencias\n",
    "\n",
    "#### A. Strings y sus métodos"
   ]
  },
  {
   "cell_type": "code",
   "execution_count": 93,
   "id": "49e5b598",
   "metadata": {},
   "outputs": [],
   "source": [
    "x = \"Hola como vas\""
   ]
  },
  {
   "cell_type": "markdown",
   "id": "543c9c23",
   "metadata": {},
   "source": [
    "#### B. Listas y métodos"
   ]
  },
  {
   "cell_type": "code",
   "execution_count": null,
   "id": "4ae662fe",
   "metadata": {},
   "outputs": [
    {
     "data": {
      "text/plain": [
       "[1, 2, 3, 4, 'a', 'b']"
      ]
     },
     "execution_count": null,
     "metadata": {},
     "output_type": "execute_result"
    }
   ],
   "source": [
    "my_list = [1,2,3,4,\"a\",\"b\"]\n",
    "my_list"
   ]
  },
  {
   "cell_type": "markdown",
   "id": "3e0757af",
   "metadata": {},
   "source": [
    "#### C. Tuplas (inmutables)"
   ]
  },
  {
   "cell_type": "code",
   "execution_count": 92,
   "id": "1426aef0",
   "metadata": {},
   "outputs": [
    {
     "data": {
      "text/plain": [
       "(1, 2, 3, 4, 5)"
      ]
     },
     "execution_count": null,
     "metadata": {},
     "output_type": "execute_result"
    }
   ],
   "source": [
    "my_tuple = (1,2,3,4,5)\n",
    "my_tuple"
   ]
  }
 ],
 "metadata": {
  "language_info": {
   "name": "python"
  }
 },
 "nbformat": 4,
 "nbformat_minor": 5
}
